{
 "cells": [
  {
   "cell_type": "code",
   "execution_count": 2,
   "metadata": {},
   "outputs": [],
   "source": [
    "from pathlib import Path\n",
    "\n",
    "import spiir.io.ligolw"
   ]
  },
  {
   "cell_type": "code",
   "execution_count": 3,
   "metadata": {},
   "outputs": [],
   "source": [
    "# Input directories for the simulation runs\n",
    "# run_dir = Path(\"/fred/oz996/injection_tests/c2591eae8cb94f3f6d85519e3e79c87f1be00ac4/run2/\")\n",
    "# bg_dir= run_dir / \"bg\"\n",
    "# inj_dir = run_dir / \"inj\"\n",
    "# non_inj_dir = run_dir / \"non_inj\"\n",
    "\n",
    "# for dir in (run_dir, bg_dir, inj_dir, non_inj_dir):\n",
    "#     assert dir.is_dir()\n",
    "\n",
    "run_dir = Path(\"data\")"
   ]
  },
  {
   "cell_type": "code",
   "execution_count": 6,
   "metadata": {},
   "outputs": [
    {
     "data": {
      "text/plain": [
       "[PosixPath('data/H1L1_1186643089_412_557.xml'),\n",
       " PosixPath('data/H1L1_1186642820_386_38.xml')]"
      ]
     },
     "execution_count": 6,
     "metadata": {},
     "output_type": "execute_result"
    }
   ],
   "source": [
    "# bg_paths = list(bg_dir.glob(\"*/*_zerolag_*.xml.gz\"))  # injection_tests\n",
    "bg_paths = list(run_dir.glob(\"*.xml\"))\n",
    "bg_paths"
   ]
  },
  {
   "cell_type": "code",
   "execution_count": 7,
   "metadata": {},
   "outputs": [
    {
     "name": "stderr",
     "output_type": "stream",
     "text": [
      "reading 'data/H1L1_1186643089_412_557.xml' ...\n"
     ]
    },
    {
     "name": "stdout",
     "output_type": "stream",
     "text": [
      "Reading (ligolw): |██████████| 1/1 (100%) ETA 00:00 \n"
     ]
    },
    {
     "data": {
      "text/html": [
       "<div>\n",
       "<style scoped>\n",
       "    .dataframe tbody tr th:only-of-type {\n",
       "        vertical-align: middle;\n",
       "    }\n",
       "\n",
       "    .dataframe tbody tr th {\n",
       "        vertical-align: top;\n",
       "    }\n",
       "\n",
       "    .dataframe thead th {\n",
       "        text-align: right;\n",
       "    }\n",
       "</style>\n",
       "<table border=\"1\" class=\"dataframe\">\n",
       "  <thead>\n",
       "    <tr style=\"text-align: right;\">\n",
       "      <th></th>\n",
       "      <th>bankid</th>\n",
       "      <th>chisq_H1</th>\n",
       "      <th>chisq_L1</th>\n",
       "      <th>chisq_V1</th>\n",
       "      <th>cmbchisq</th>\n",
       "      <th>coaphase_H1</th>\n",
       "      <th>coaphase_L1</th>\n",
       "      <th>coaphase_V1</th>\n",
       "      <th>cohsnr</th>\n",
       "      <th>dec</th>\n",
       "      <th>...</th>\n",
       "      <th>snglsnr_V1</th>\n",
       "      <th>spearman_pval</th>\n",
       "      <th>spin1x</th>\n",
       "      <th>spin1y</th>\n",
       "      <th>spin1z</th>\n",
       "      <th>spin2x</th>\n",
       "      <th>spin2y</th>\n",
       "      <th>spin2z</th>\n",
       "      <th>template_duration</th>\n",
       "      <th>tmplt_idx</th>\n",
       "    </tr>\n",
       "  </thead>\n",
       "  <tbody>\n",
       "    <tr>\n",
       "      <th>0</th>\n",
       "      <td>412</td>\n",
       "      <td>1.78429</td>\n",
       "      <td>1.141463</td>\n",
       "      <td>0.0</td>\n",
       "      <td>1.462876</td>\n",
       "      <td>-1.277096</td>\n",
       "      <td>2.573364</td>\n",
       "      <td>0.0</td>\n",
       "      <td>10.168726</td>\n",
       "      <td>10.806923</td>\n",
       "      <td>...</td>\n",
       "      <td>0.0</td>\n",
       "      <td>0.0</td>\n",
       "      <td>0.0</td>\n",
       "      <td>0.0</td>\n",
       "      <td>0.290835</td>\n",
       "      <td>0.0</td>\n",
       "      <td>0.0</td>\n",
       "      <td>-0.214702</td>\n",
       "      <td>2.047465</td>\n",
       "      <td>557</td>\n",
       "    </tr>\n",
       "  </tbody>\n",
       "</table>\n",
       "<p>1 rows × 67 columns</p>\n",
       "</div>"
      ],
      "text/plain": [
       "   bankid  chisq_H1  chisq_L1  chisq_V1  cmbchisq  coaphase_H1  coaphase_L1  \\\n",
       "0     412   1.78429  1.141463       0.0  1.462876    -1.277096     2.573364   \n",
       "\n",
       "   coaphase_V1     cohsnr        dec  ...  snglsnr_V1  spearman_pval  spin1x  \\\n",
       "0          0.0  10.168726  10.806923  ...         0.0            0.0     0.0   \n",
       "\n",
       "   spin1y    spin1z  spin2x  spin2y    spin2z  template_duration  tmplt_idx  \n",
       "0     0.0  0.290835     0.0     0.0 -0.214702           2.047465        557  \n",
       "\n",
       "[1 rows x 67 columns]"
      ]
     },
     "execution_count": 7,
     "metadata": {},
     "output_type": "execute_result"
    }
   ],
   "source": [
    "df = spiir.io.ligolw.load_postcoh_tables(bg_paths[0], verbose=True)\n",
    "df"
   ]
  },
  {
   "cell_type": "code",
   "execution_count": 8,
   "metadata": {},
   "outputs": [
    {
     "name": "stderr",
     "output_type": "stream",
     "text": [
      "reading 'data/H1L1_1186643089_412_557.xml' ...\n",
      "reading 'data/H1L1_1186642820_386_38.xml' ...\n"
     ]
    },
    {
     "name": "stdout",
     "output_type": "stream",
     "text": [
      "Reading (ligolw): |██████████| 2/2 (100%) ETA 00:00 \n"
     ]
    },
    {
     "data": {
      "text/html": [
       "<div>\n",
       "<style scoped>\n",
       "    .dataframe tbody tr th:only-of-type {\n",
       "        vertical-align: middle;\n",
       "    }\n",
       "\n",
       "    .dataframe tbody tr th {\n",
       "        vertical-align: top;\n",
       "    }\n",
       "\n",
       "    .dataframe thead th {\n",
       "        text-align: right;\n",
       "    }\n",
       "</style>\n",
       "<table border=\"1\" class=\"dataframe\">\n",
       "  <thead>\n",
       "    <tr style=\"text-align: right;\">\n",
       "      <th></th>\n",
       "      <th>bankid</th>\n",
       "      <th>chisq_H1</th>\n",
       "      <th>chisq_L1</th>\n",
       "      <th>chisq_V1</th>\n",
       "      <th>cmbchisq</th>\n",
       "      <th>coaphase_H1</th>\n",
       "      <th>coaphase_L1</th>\n",
       "      <th>coaphase_V1</th>\n",
       "      <th>cohsnr</th>\n",
       "      <th>dec</th>\n",
       "      <th>...</th>\n",
       "      <th>snglsnr_V1</th>\n",
       "      <th>spearman_pval</th>\n",
       "      <th>spin1x</th>\n",
       "      <th>spin1y</th>\n",
       "      <th>spin1z</th>\n",
       "      <th>spin2x</th>\n",
       "      <th>spin2y</th>\n",
       "      <th>spin2z</th>\n",
       "      <th>template_duration</th>\n",
       "      <th>tmplt_idx</th>\n",
       "    </tr>\n",
       "  </thead>\n",
       "  <tbody>\n",
       "    <tr>\n",
       "      <th>0</th>\n",
       "      <td>412</td>\n",
       "      <td>1.78429</td>\n",
       "      <td>1.141463</td>\n",
       "      <td>0.0</td>\n",
       "      <td>1.462876</td>\n",
       "      <td>-1.277096</td>\n",
       "      <td>2.573364</td>\n",
       "      <td>0.0</td>\n",
       "      <td>10.168726</td>\n",
       "      <td>10.806923</td>\n",
       "      <td>...</td>\n",
       "      <td>0.0</td>\n",
       "      <td>0.0</td>\n",
       "      <td>0.0</td>\n",
       "      <td>0.0</td>\n",
       "      <td>0.290835</td>\n",
       "      <td>0.0</td>\n",
       "      <td>0.0</td>\n",
       "      <td>-0.214702</td>\n",
       "      <td>2.047465</td>\n",
       "      <td>557</td>\n",
       "    </tr>\n",
       "    <tr>\n",
       "      <th>1</th>\n",
       "      <td>386</td>\n",
       "      <td>2.24946</td>\n",
       "      <td>1.677864</td>\n",
       "      <td>0.0</td>\n",
       "      <td>1.963662</td>\n",
       "      <td>1.918477</td>\n",
       "      <td>1.912692</td>\n",
       "      <td>0.0</td>\n",
       "      <td>8.857860</td>\n",
       "      <td>1.193748</td>\n",
       "      <td>...</td>\n",
       "      <td>0.0</td>\n",
       "      <td>0.0</td>\n",
       "      <td>0.0</td>\n",
       "      <td>0.0</td>\n",
       "      <td>-0.046635</td>\n",
       "      <td>0.0</td>\n",
       "      <td>0.0</td>\n",
       "      <td>0.910110</td>\n",
       "      <td>47.537828</td>\n",
       "      <td>38</td>\n",
       "    </tr>\n",
       "  </tbody>\n",
       "</table>\n",
       "<p>2 rows × 67 columns</p>\n",
       "</div>"
      ],
      "text/plain": [
       "   bankid  chisq_H1  chisq_L1  chisq_V1  cmbchisq  coaphase_H1  coaphase_L1  \\\n",
       "0     412   1.78429  1.141463       0.0  1.462876    -1.277096     2.573364   \n",
       "1     386   2.24946  1.677864       0.0  1.963662     1.918477     1.912692   \n",
       "\n",
       "   coaphase_V1     cohsnr        dec  ...  snglsnr_V1  spearman_pval  spin1x  \\\n",
       "0          0.0  10.168726  10.806923  ...         0.0            0.0     0.0   \n",
       "1          0.0   8.857860   1.193748  ...         0.0            0.0     0.0   \n",
       "\n",
       "   spin1y    spin1z  spin2x  spin2y    spin2z  template_duration  tmplt_idx  \n",
       "0     0.0  0.290835     0.0     0.0 -0.214702           2.047465        557  \n",
       "1     0.0 -0.046635     0.0     0.0  0.910110          47.537828         38  \n",
       "\n",
       "[2 rows x 67 columns]"
      ]
     },
     "execution_count": 8,
     "metadata": {},
     "output_type": "execute_result"
    }
   ],
   "source": [
    "data = spiir.io.ligolw.load_postcoh_tables(bg_paths, verbose=True)\n",
    "data"
   ]
  },
  {
   "cell_type": "code",
   "execution_count": null,
   "metadata": {},
   "outputs": [],
   "source": []
  }
 ],
 "metadata": {
  "kernelspec": {
   "display_name": "Python 3.10.4 ('venv': venv)",
   "language": "python",
   "name": "python3"
  },
  "language_info": {
   "codemirror_mode": {
    "name": "ipython",
    "version": 3
   },
   "file_extension": ".py",
   "mimetype": "text/x-python",
   "name": "python",
   "nbconvert_exporter": "python",
   "pygments_lexer": "ipython3",
   "version": "3.10.4"
  },
  "orig_nbformat": 4,
  "vscode": {
   "interpreter": {
    "hash": "dc883942ac1f05c1b7a0c221cc8fb17a5e9d4e8d0af4f7d59c376c5ed50f1dda"
   }
  }
 },
 "nbformat": 4,
 "nbformat_minor": 2
}
