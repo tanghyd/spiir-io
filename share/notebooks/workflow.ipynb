{
 "cells": [
  {
   "cell_type": "code",
   "execution_count": 1,
   "metadata": {},
   "outputs": [],
   "source": [
    "from pathlib import Path\n",
    "\n",
    "import pandas as pd\n",
    "import numpy as np\n",
    "\n",
    "import spiir.io.ligolw"
   ]
  },
  {
   "cell_type": "code",
   "execution_count": 2,
   "metadata": {},
   "outputs": [],
   "source": [
    "# Input directories for the simulation runs\n",
    "# run_dir = Path(\"/fred/oz996/injection_tests/c2591eae8cb94f3f6d85519e3e79c87f1be00ac4/run2/\")\n",
    "# bg_dir= run_dir / \"bg\"\n",
    "# inj_dir = run_dir / \"inj\"\n",
    "# non_inj_dir = run_dir / \"non_inj\"\n",
    "\n",
    "# for dir in (run_dir, bg_dir, inj_dir, non_inj_dir):\n",
    "#     assert dir.is_dir()\n",
    "\n",
    "# paths = list(bg_dir.glob(\"*/*_zerolag_*.xml.gz\"))  # injection_tests"
   ]
  },
  {
   "cell_type": "code",
   "execution_count": 3,
   "metadata": {},
   "outputs": [
    {
     "data": {
      "text/plain": [
       "[PosixPath('../data/coinc/H1L1_1186642820_386_38.xml'),\n",
       " PosixPath('../data/coinc/H1L1_1186643089_412_557.xml')]"
      ]
     },
     "execution_count": 3,
     "metadata": {},
     "output_type": "execute_result"
    }
   ],
   "source": [
    "# specify paths to coinc.xml files with postcoh tables\n",
    "coinc_dir = Path(\"../data/coinc/\")\n",
    "paths = list(coinc_dir.glob(\"*.xml\"))\n",
    "paths"
   ]
  },
  {
   "cell_type": "code",
   "execution_count": 18,
   "metadata": {},
   "outputs": [
    {
     "data": {
      "text/html": [
       "<div>\n",
       "<style scoped>\n",
       "    .dataframe tbody tr th:only-of-type {\n",
       "        vertical-align: middle;\n",
       "    }\n",
       "\n",
       "    .dataframe tbody tr th {\n",
       "        vertical-align: top;\n",
       "    }\n",
       "\n",
       "    .dataframe thead th {\n",
       "        text-align: right;\n",
       "    }\n",
       "</style>\n",
       "<table border=\"1\" class=\"dataframe\">\n",
       "  <thead>\n",
       "    <tr style=\"text-align: right;\">\n",
       "      <th></th>\n",
       "      <th>bankid</th>\n",
       "      <th>chisq_H1</th>\n",
       "      <th>chisq_L1</th>\n",
       "      <th>chisq_V1</th>\n",
       "      <th>cmbchisq</th>\n",
       "      <th>coaphase_H1</th>\n",
       "      <th>coaphase_L1</th>\n",
       "      <th>coaphase_V1</th>\n",
       "      <th>cohsnr</th>\n",
       "      <th>dec</th>\n",
       "      <th>...</th>\n",
       "      <th>snglsnr_V1</th>\n",
       "      <th>spearman_pval</th>\n",
       "      <th>spin1x</th>\n",
       "      <th>spin1y</th>\n",
       "      <th>spin1z</th>\n",
       "      <th>spin2x</th>\n",
       "      <th>spin2y</th>\n",
       "      <th>spin2z</th>\n",
       "      <th>template_duration</th>\n",
       "      <th>tmplt_idx</th>\n",
       "    </tr>\n",
       "  </thead>\n",
       "  <tbody>\n",
       "    <tr>\n",
       "      <th>0</th>\n",
       "      <td>386</td>\n",
       "      <td>2.24946</td>\n",
       "      <td>1.677864</td>\n",
       "      <td>0.0</td>\n",
       "      <td>1.963662</td>\n",
       "      <td>1.918477</td>\n",
       "      <td>1.912692</td>\n",
       "      <td>0.0</td>\n",
       "      <td>8.85786</td>\n",
       "      <td>1.193748</td>\n",
       "      <td>...</td>\n",
       "      <td>0.0</td>\n",
       "      <td>0.0</td>\n",
       "      <td>0.0</td>\n",
       "      <td>0.0</td>\n",
       "      <td>-0.046635</td>\n",
       "      <td>0.0</td>\n",
       "      <td>0.0</td>\n",
       "      <td>0.91011</td>\n",
       "      <td>47.537828</td>\n",
       "      <td>38</td>\n",
       "    </tr>\n",
       "  </tbody>\n",
       "</table>\n",
       "<p>1 rows × 67 columns</p>\n",
       "</div>"
      ],
      "text/plain": [
       "   bankid  chisq_H1  chisq_L1  chisq_V1  cmbchisq  coaphase_H1  coaphase_L1  \\\n",
       "0     386   2.24946  1.677864       0.0  1.963662     1.918477     1.912692   \n",
       "\n",
       "   coaphase_V1   cohsnr       dec  ...  snglsnr_V1  spearman_pval  spin1x  \\\n",
       "0          0.0  8.85786  1.193748  ...         0.0            0.0     0.0   \n",
       "\n",
       "   spin1y    spin1z  spin2x  spin2y   spin2z  template_duration  tmplt_idx  \n",
       "0     0.0 -0.046635     0.0     0.0  0.91011          47.537828         38  \n",
       "\n",
       "[1 rows x 67 columns]"
      ]
     },
     "execution_count": 18,
     "metadata": {},
     "output_type": "execute_result"
    }
   ],
   "source": [
    "df = spiir.io.ligolw.load_postcoh_tables(paths[0], verbose=False)\n",
    "df"
   ]
  },
  {
   "cell_type": "code",
   "execution_count": 5,
   "metadata": {},
   "outputs": [
    {
     "name": "stderr",
     "output_type": "stream",
     "text": [
      "reading '../data/coinc/H1L1_1186642820_386_38.xml' ...\n"
     ]
    },
    {
     "name": "stdout",
     "output_type": "stream",
     "text": [
      "Reading (ligolw): |██████████| 1/1 (100%) ETA 00:00 \n"
     ]
    },
    {
     "name": "stderr",
     "output_type": "stream",
     "text": [
      "reading '../data/coinc/H1L1_1186643089_412_557.xml' ...\n"
     ]
    },
    {
     "name": "stdout",
     "output_type": "stream",
     "text": [
      "Reading (ligolw): |██████████| 2/2 (100%) ETA 00:00 \n"
     ]
    },
    {
     "data": {
      "text/html": [
       "<div>\n",
       "<style scoped>\n",
       "    .dataframe tbody tr th:only-of-type {\n",
       "        vertical-align: middle;\n",
       "    }\n",
       "\n",
       "    .dataframe tbody tr th {\n",
       "        vertical-align: top;\n",
       "    }\n",
       "\n",
       "    .dataframe thead th {\n",
       "        text-align: right;\n",
       "    }\n",
       "</style>\n",
       "<table border=\"1\" class=\"dataframe\">\n",
       "  <thead>\n",
       "    <tr style=\"text-align: right;\">\n",
       "      <th></th>\n",
       "      <th>chisq_H1</th>\n",
       "      <th>chisq_L1</th>\n",
       "      <th>chisq_V1</th>\n",
       "    </tr>\n",
       "  </thead>\n",
       "  <tbody>\n",
       "    <tr>\n",
       "      <th>0</th>\n",
       "      <td>2.24946</td>\n",
       "      <td>1.677864</td>\n",
       "      <td>0.0</td>\n",
       "    </tr>\n",
       "    <tr>\n",
       "      <th>1</th>\n",
       "      <td>1.78429</td>\n",
       "      <td>1.141463</td>\n",
       "      <td>0.0</td>\n",
       "    </tr>\n",
       "  </tbody>\n",
       "</table>\n",
       "</div>"
      ],
      "text/plain": [
       "   chisq_H1  chisq_L1  chisq_V1\n",
       "0   2.24946  1.677864       0.0\n",
       "1   1.78429  1.141463       0.0"
      ]
     },
     "execution_count": 5,
     "metadata": {},
     "output_type": "execute_result"
    }
   ],
   "source": [
    "data = spiir.io.ligolw.load_postcoh_tables(\n",
    "    paths,\n",
    "    columns=[\"chisq_H1\", \"chisq_L1\", \"chisq_V1\"],\n",
    "    verbose=True\n",
    ")\n",
    "data"
   ]
  },
  {
   "cell_type": "code",
   "execution_count": 6,
   "metadata": {},
   "outputs": [],
   "source": [
    "# specify paths to coinc.xml files with postcoh tables\n",
    "psd_dir = Path(\"../data/psd/\")\n",
    "psd_path = list(psd_dir.glob(\"*.xml\"))[0]"
   ]
  },
  {
   "cell_type": "code",
   "execution_count": 7,
   "metadata": {},
   "outputs": [
    {
     "data": {
      "text/html": [
       "<div>\n",
       "<style scoped>\n",
       "    .dataframe tbody tr th:only-of-type {\n",
       "        vertical-align: middle;\n",
       "    }\n",
       "\n",
       "    .dataframe tbody tr th {\n",
       "        vertical-align: top;\n",
       "    }\n",
       "\n",
       "    .dataframe thead th {\n",
       "        text-align: right;\n",
       "    }\n",
       "</style>\n",
       "<table border=\"1\" class=\"dataframe\">\n",
       "  <thead>\n",
       "    <tr style=\"text-align: right;\">\n",
       "      <th></th>\n",
       "      <th>H1</th>\n",
       "      <th>L1</th>\n",
       "      <th>V1</th>\n",
       "    </tr>\n",
       "    <tr>\n",
       "      <th>frequency</th>\n",
       "      <th></th>\n",
       "      <th></th>\n",
       "      <th></th>\n",
       "    </tr>\n",
       "  </thead>\n",
       "  <tbody>\n",
       "    <tr>\n",
       "      <th>0.0000</th>\n",
       "      <td>1.215107e-49</td>\n",
       "      <td>2.043857e-49</td>\n",
       "      <td>3.683476e-45</td>\n",
       "    </tr>\n",
       "    <tr>\n",
       "      <th>0.0625</th>\n",
       "      <td>1.001581e-49</td>\n",
       "      <td>2.051245e-49</td>\n",
       "      <td>5.837852e-45</td>\n",
       "    </tr>\n",
       "    <tr>\n",
       "      <th>0.1250</th>\n",
       "      <td>8.977003e-50</td>\n",
       "      <td>2.232848e-49</td>\n",
       "      <td>2.707563e-45</td>\n",
       "    </tr>\n",
       "    <tr>\n",
       "      <th>0.1875</th>\n",
       "      <td>9.671079e-50</td>\n",
       "      <td>2.310715e-49</td>\n",
       "      <td>1.956734e-45</td>\n",
       "    </tr>\n",
       "    <tr>\n",
       "      <th>0.2500</th>\n",
       "      <td>9.439671e-50</td>\n",
       "      <td>2.154056e-49</td>\n",
       "      <td>2.266791e-45</td>\n",
       "    </tr>\n",
       "    <tr>\n",
       "      <th>...</th>\n",
       "      <td>...</td>\n",
       "      <td>...</td>\n",
       "      <td>...</td>\n",
       "    </tr>\n",
       "    <tr>\n",
       "      <th>8191.7500</th>\n",
       "      <td>4.031580e-52</td>\n",
       "      <td>5.202033e-55</td>\n",
       "      <td>1.825420e-43</td>\n",
       "    </tr>\n",
       "    <tr>\n",
       "      <th>8191.8125</th>\n",
       "      <td>3.867713e-52</td>\n",
       "      <td>5.055507e-55</td>\n",
       "      <td>1.848928e-43</td>\n",
       "    </tr>\n",
       "    <tr>\n",
       "      <th>8191.8750</th>\n",
       "      <td>3.726882e-52</td>\n",
       "      <td>4.378472e-55</td>\n",
       "      <td>1.661876e-43</td>\n",
       "    </tr>\n",
       "    <tr>\n",
       "      <th>8191.9375</th>\n",
       "      <td>3.334469e-52</td>\n",
       "      <td>4.638061e-55</td>\n",
       "      <td>1.186322e-43</td>\n",
       "    </tr>\n",
       "    <tr>\n",
       "      <th>8192.0000</th>\n",
       "      <td>2.186125e-52</td>\n",
       "      <td>3.114580e-55</td>\n",
       "      <td>5.254383e-44</td>\n",
       "    </tr>\n",
       "  </tbody>\n",
       "</table>\n",
       "<p>131073 rows × 3 columns</p>\n",
       "</div>"
      ],
      "text/plain": [
       "                     H1            L1            V1\n",
       "frequency                                          \n",
       "0.0000     1.215107e-49  2.043857e-49  3.683476e-45\n",
       "0.0625     1.001581e-49  2.051245e-49  5.837852e-45\n",
       "0.1250     8.977003e-50  2.232848e-49  2.707563e-45\n",
       "0.1875     9.671079e-50  2.310715e-49  1.956734e-45\n",
       "0.2500     9.439671e-50  2.154056e-49  2.266791e-45\n",
       "...                 ...           ...           ...\n",
       "8191.7500  4.031580e-52  5.202033e-55  1.825420e-43\n",
       "8191.8125  3.867713e-52  5.055507e-55  1.848928e-43\n",
       "8191.8750  3.726882e-52  4.378472e-55  1.661876e-43\n",
       "8191.9375  3.334469e-52  4.638061e-55  1.186322e-43\n",
       "8192.0000  2.186125e-52  3.114580e-55  5.254383e-44\n",
       "\n",
       "[131073 rows x 3 columns]"
      ]
     },
     "execution_count": 7,
     "metadata": {},
     "output_type": "execute_result"
    }
   ],
   "source": [
    "# read frequency series PSD as dataframe\n",
    "ifos = (\"H1\", \"L1\", \"V1\")\n",
    "psds = {\n",
    "    ifo: spiir.io.ligolw.load_ligolw_frequency_series(psd_path, instrument=ifo)\n",
    "    for ifo in ifos\n",
    "}\n",
    "psds = pd.DataFrame(psds)\n",
    "psds"
   ]
  },
  {
   "cell_type": "code",
   "execution_count": 15,
   "metadata": {},
   "outputs": [
    {
     "data": {
      "text/plain": [
       "[PosixPath('../data/snr/H1L1V1_1187006031_3_432.xml')]"
      ]
     },
     "execution_count": 15,
     "metadata": {},
     "output_type": "execute_result"
    }
   ],
   "source": [
    "# specify paths to coinc.xml files with postcoh tables\n",
    "snr_dir = Path(\"../data/snr/\")\n",
    "snr_paths = list(snr_dir.glob(\"*.xml\"))\n",
    "snr_paths"
   ]
  },
  {
   "cell_type": "code",
   "execution_count": 16,
   "metadata": {},
   "outputs": [
    {
     "data": {
      "text/html": [
       "<div>\n",
       "<style scoped>\n",
       "    .dataframe tbody tr th:only-of-type {\n",
       "        vertical-align: middle;\n",
       "    }\n",
       "\n",
       "    .dataframe tbody tr th {\n",
       "        vertical-align: top;\n",
       "    }\n",
       "\n",
       "    .dataframe thead th {\n",
       "        text-align: right;\n",
       "    }\n",
       "</style>\n",
       "<table border=\"1\" class=\"dataframe\">\n",
       "  <thead>\n",
       "    <tr style=\"text-align: right;\">\n",
       "      <th></th>\n",
       "      <th>H1</th>\n",
       "      <th>L1</th>\n",
       "      <th>V1</th>\n",
       "    </tr>\n",
       "    <tr>\n",
       "      <th>time</th>\n",
       "      <th></th>\n",
       "      <th></th>\n",
       "      <th></th>\n",
       "    </tr>\n",
       "  </thead>\n",
       "  <tbody>\n",
       "    <tr>\n",
       "      <th>1.187006e+09</th>\n",
       "      <td>5.090341+2.118321j</td>\n",
       "      <td>N00000000a00000000N</td>\n",
       "      <td>NaN</td>\n",
       "    </tr>\n",
       "    <tr>\n",
       "      <th>1.187006e+09</th>\n",
       "      <td>5.324289+0.328001j</td>\n",
       "      <td>N00000000a00000000N</td>\n",
       "      <td>NaN</td>\n",
       "    </tr>\n",
       "    <tr>\n",
       "      <th>1.187006e+09</th>\n",
       "      <td>5.157585-1.283667j</td>\n",
       "      <td>N00000000a00000000N</td>\n",
       "      <td>NaN</td>\n",
       "    </tr>\n",
       "    <tr>\n",
       "      <th>1.187006e+09</th>\n",
       "      <td>4.674510-3.148629j</td>\n",
       "      <td>N00000000a00000000N</td>\n",
       "      <td>NaN</td>\n",
       "    </tr>\n",
       "    <tr>\n",
       "      <th>1.187006e+09</th>\n",
       "      <td>3.096841-4.685825j</td>\n",
       "      <td>N00000000a00000000N</td>\n",
       "      <td>NaN</td>\n",
       "    </tr>\n",
       "    <tr>\n",
       "      <th>...</th>\n",
       "      <td>...</td>\n",
       "      <td>...</td>\n",
       "      <td>...</td>\n",
       "    </tr>\n",
       "    <tr>\n",
       "      <th>1.187006e+09</th>\n",
       "      <td>N00000000a00000000N</td>\n",
       "      <td>-2.910600-1.514287j</td>\n",
       "      <td>NaN</td>\n",
       "    </tr>\n",
       "    <tr>\n",
       "      <th>1.187006e+09</th>\n",
       "      <td>N00000000a00000000N</td>\n",
       "      <td>-3.083956-0.182296j</td>\n",
       "      <td>NaN</td>\n",
       "    </tr>\n",
       "    <tr>\n",
       "      <th>1.187006e+09</th>\n",
       "      <td>N00000000a00000000N</td>\n",
       "      <td>-2.673801+0.888132j</td>\n",
       "      <td>NaN</td>\n",
       "    </tr>\n",
       "    <tr>\n",
       "      <th>1.187006e+09</th>\n",
       "      <td>N00000000a00000000N</td>\n",
       "      <td>-2.079699+1.639234j</td>\n",
       "      <td>NaN</td>\n",
       "    </tr>\n",
       "    <tr>\n",
       "      <th>1.187006e+09</th>\n",
       "      <td>N00000000a00000000N</td>\n",
       "      <td>-1.422337+2.244643j</td>\n",
       "      <td>NaN</td>\n",
       "    </tr>\n",
       "  </tbody>\n",
       "</table>\n",
       "<p>402 rows × 3 columns</p>\n",
       "</div>"
      ],
      "text/plain": [
       "                              H1                  L1  V1\n",
       "time                                                    \n",
       "1.187006e+09  5.090341+2.118321j N00000000a00000000N NaN\n",
       "1.187006e+09  5.324289+0.328001j N00000000a00000000N NaN\n",
       "1.187006e+09  5.157585-1.283667j N00000000a00000000N NaN\n",
       "1.187006e+09  4.674510-3.148629j N00000000a00000000N NaN\n",
       "1.187006e+09  3.096841-4.685825j N00000000a00000000N NaN\n",
       "...                          ...                 ...  ..\n",
       "1.187006e+09 N00000000a00000000N -2.910600-1.514287j NaN\n",
       "1.187006e+09 N00000000a00000000N -3.083956-0.182296j NaN\n",
       "1.187006e+09 N00000000a00000000N -2.673801+0.888132j NaN\n",
       "1.187006e+09 N00000000a00000000N -2.079699+1.639234j NaN\n",
       "1.187006e+09 N00000000a00000000N -1.422337+2.244643j NaN\n",
       "\n",
       "[402 rows x 3 columns]"
      ]
     },
     "execution_count": 16,
     "metadata": {},
     "output_type": "execute_result"
    }
   ],
   "source": [
    "# load SNR series (with epoch offset added)\n",
    "snr_series = spiir.io.ligolw.load_all_ligolw_snr_series(\n",
    "    snr_paths[0], add_epoch_time=True, ilwdchar_compat=True\n",
    ")\n",
    "snr_df = pd.DataFrame(snr_series.values()).T.fillna(np.nan)\n",
    "snr_df"
   ]
  },
  {
   "cell_type": "code",
   "execution_count": 17,
   "metadata": {},
   "outputs": [
    {
     "data": {
      "text/plain": [
       "<AxesSubplot:title={'center':'SNR Series'}, xlabel='time'>"
      ]
     },
     "execution_count": 17,
     "metadata": {},
     "output_type": "execute_result"
    },
    {
     "data": {
      "image/png": "[encoded data removed]",
      "text/plain": [
       "<Figure size 864x576 with 1 Axes>"
      ]
     },
     "metadata": {
      "needs_background": "light"
     },
     "output_type": "display_data"
    }
   ],
   "source": [
    "# plot real valued SNR\n",
    "df = snr_df.apply(lambda snr: np.sqrt(np.real(snr)**2 + np.imag(snr)**2), axis=0)\n",
    "df.plot(title=\"SNR Series\", figsize=(12,8))"
   ]
  }
 ],
 "metadata": {
  "kernelspec": {
   "display_name": "Python 3.8.5 ('venv': venv)",
   "language": "python",
   "name": "python3"
  },
  "language_info": {
   "codemirror_mode": {
    "name": "ipython",
    "version": 3
   },
   "file_extension": ".py",
   "mimetype": "text/x-python",
   "name": "python",
   "nbconvert_exporter": "python",
   "pygments_lexer": "ipython3",
   "version": "3.8.5"
  },
  "orig_nbformat": 4,
  "vscode": {
   "interpreter": {
    "hash": "ff6f8ea5e96bd542a28de66742b0c640b42b98c4452808ad5aceb946193d3f7f"
   }
  }
 },
 "nbformat": 4,
 "nbformat_minor": 2
}
